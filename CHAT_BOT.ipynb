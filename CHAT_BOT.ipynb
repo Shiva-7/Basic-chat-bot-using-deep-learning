{
 "cells": [
  {
   "cell_type": "code",
   "execution_count": null,
   "metadata": {},
   "outputs": [],
   "source": [
    "#importing all the needed packages and libraires\n",
    "import nltk\n",
    "from nltk.stem.lancaster import LancasterStemmer\n",
    "import numpy as np\n",
    "import pandas as pd\n",
    "#import tflearn\n",
    "import keras\n",
    "from keras.models import Sequential\n",
    "from keras.layers import Dense,Activation,Dropout\n",
    "from keras.optimizers import SGD\n",
    "import random\n",
    "import tensorflow"
   ]
  },
  {
   "cell_type": "code",
   "execution_count": null,
   "metadata": {},
   "outputs": [],
   "source": [
    "df = pd.read_json(\"C:/Users/shiva/Downloads/json file/intents.json\") #loading the data"
   ]
  },
  {
   "cell_type": "code",
   "execution_count": null,
   "metadata": {},
   "outputs": [],
   "source": [
    "stmr = LancasterStemmer() #creating an empty variables but are done so that we can store the analyzied \n",
    "words = []                #data into it after undergoing various analysis and techniques on the data \n",
    "labels = []\n",
    "docs_x = []\n",
    "docs_y = []"
   ]
  },
  {
   "cell_type": "code",
   "execution_count": null,
   "metadata": {},
   "outputs": [],
   "source": [
    "#performing looping statements and conditional statmnts in order to clean and bring out the needed/fine information\n",
    "#includes data cleaning lowering cases data conversion\n",
    "\n",
    "for intent in df[\"intents\"]:\n",
    "    for pattern in intent[\"patterns\"]:\n",
    "        wrds = nltk.word_tokenize(pattern)\n",
    "        words.extend(wrds)\n",
    "        docs_x.append(wrds)\n",
    "        docs_y.append(intent[\"tag\"])\n",
    "    if intent[\"tag\"] not in labels:\n",
    "        labels.append(intent[\"tag\"])\n",
    "words = [stmr.stem(w.lower()) for w in words if w != \"?\"]\n",
    "words = sorted(list(set(words)))\n",
    "labels = sorted(labels)\n",
    "training = []\n",
    "output = []\n",
    "out_empty = [0 for _ in range(len(labels))]\n",
    "for x,doc in enumerate(docs_x):\n",
    "    bag = []\n",
    "    wrds = [stmr.stem(w) for w in doc]\n",
    "    for w in words:\n",
    "        if w in wrds:\n",
    "            bag.append(1)\n",
    "        else:\n",
    "            bag.append(0)\n",
    "    output_row = out_empty[:]\n",
    "    output_row[labels.index(docs_y[x])] = 1\n",
    "    training.append(bag)\n",
    "    output.append(output_row)\n",
    "training = np.array(training)\n",
    "output = np.array(output)"
   ]
  },
  {
   "cell_type": "code",
   "execution_count": null,
   "metadata": {},
   "outputs": [],
   "source": []
  },
  {
   "cell_type": "code",
   "execution_count": null,
   "metadata": {},
   "outputs": [],
   "source": [
    "#aplying deep learning techniques\n",
    "#creating hidden layers applying activation functions\n",
    "\n",
    "k = Sequential()\n",
    "k.add(Dense(output_dim=8,init ='he_uniform',activation='relu',input_dim =(len(training[0]))))\n",
    "k.add(Dropout(0.5))\n",
    "k.add(Dense(output_dim=8,init ='he_uniform',activation='relu'))\n",
    "k.add(Dropout(0.5))\n",
    "k.add(Dense(output_dim=len(output[0]),init ='he_uniform',activation='softmax'))"
   ]
  },
  {
   "cell_type": "code",
   "execution_count": null,
   "metadata": {},
   "outputs": [],
   "source": [
    "#performing a bit of tuning for the better performance\n",
    "\n",
    "sgd = SGD(lr=0.01,decay=1e-6,momentum=0.9,nesterov=True)\n",
    "k.compile(loss=\"categorical_crossentropy\",optimizer=sgd,metrics=['accuracy'])"
   ]
  },
  {
   "cell_type": "code",
   "execution_count": null,
   "metadata": {},
   "outputs": [],
   "source": [
    "#fitting the trainied model to the data and itirating throughs needed epochs to find out the best accuracy\n",
    "\n",
    "k.fit(training,output,batch_size=5,nb_epoch=50)"
   ]
  },
  {
   "cell_type": "code",
   "execution_count": null,
   "metadata": {},
   "outputs": [],
   "source": [
    "#defing funtion so to convert the user information and includes \n",
    "#data convertion lowering cases conditional/looping statmnts \n",
    "\n",
    "def bag_of_words(s,words):\n",
    "    bag = [0 for _ in range(len(words))]\n",
    "    \n",
    "    s_words = nltk.word_tokenize(s)\n",
    "    s_words = [stmr.stem(word.lower()) for word in s_words]\n",
    "    \n",
    "    for se in s_words:\n",
    "        for i,w in enumerate(words):\n",
    "            if w==se:\n",
    "                bag[i]=1\n",
    "    return np.array(bag)"
   ]
  },
  {
   "cell_type": "code",
   "execution_count": null,
   "metadata": {},
   "outputs": [],
   "source": [
    "def chat():\n",
    "    print(\"start talking with bot (type quit to stop)\")\n",
    "    while True:\n",
    "        inp = input(\"you: \")\n",
    "        if inp.lower()==\"quit\":\n",
    "            break\n",
    "        results = k.predict([bag_of_words(inp,words)])\n",
    "        results_index = np.argmax(results)\n",
    "        tag = labels[results_index]\n",
    "        \n",
    "        for tg in df[\"intents\"]:\n",
    "            if tg[\"tag\"] == tag:\n",
    "                responses = tg[\"responses\"]\n",
    "        print(random.choice(responses))\n",
    "#chat()"
   ]
  },
  {
   "cell_type": "code",
   "execution_count": null,
   "metadata": {},
   "outputs": [],
   "source": [
    "chat()"
   ]
  },
  {
   "cell_type": "code",
   "execution_count": null,
   "metadata": {},
   "outputs": [],
   "source": []
  },
  {
   "cell_type": "code",
   "execution_count": null,
   "metadata": {},
   "outputs": [],
   "source": []
  }
 ],
 "metadata": {
  "kernelspec": {
   "display_name": "Python 3",
   "language": "python",
   "name": "python3"
  },
  "language_info": {
   "codemirror_mode": {
    "name": "ipython",
    "version": 3
   },
   "file_extension": ".py",
   "mimetype": "text/x-python",
   "name": "python",
   "nbconvert_exporter": "python",
   "pygments_lexer": "ipython3",
   "version": "3.7.3"
  }
 },
 "nbformat": 4,
 "nbformat_minor": 2
}
